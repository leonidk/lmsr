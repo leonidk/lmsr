{
 "cells": [
  {
   "cell_type": "code",
   "execution_count": null,
   "metadata": {},
   "outputs": [],
   "source": [
    "import numpy as np\n",
    "import matplotlib.pyplot as plt"
   ]
  },
  {
   "cell_type": "code",
   "execution_count": null,
   "metadata": {},
   "outputs": [],
   "source": [
    "x = -5\n",
    "T = 15\n",
    "\n",
    "q = np.array([10,5])\n",
    "\n",
    "def price(x,T):\n",
    "    return 1/(1+np.exp(-x/T))"
   ]
  },
  {
   "cell_type": "code",
   "execution_count": null,
   "metadata": {},
   "outputs": [],
   "source": [
    "xv = np.arange(-100,100,1)\n",
    "plt.plot(xv,price(xv,T))"
   ]
  },
  {
   "cell_type": "code",
   "execution_count": null,
   "metadata": {},
   "outputs": [],
   "source": [
    "a,b = price(-5,T),price(5,T)\n",
    "a*10,b*10,10*(a+b),a*20"
   ]
  },
  {
   "cell_type": "code",
   "execution_count": null,
   "metadata": {},
   "outputs": [],
   "source": [
    "total_bet = 10\n",
    "small_bets = np.linspace(-5,5,100)\n",
    "bet_size = total_bet/len(small_bets)\n",
    "(price(small_bets,T)*bet_size).sum()"
   ]
  },
  {
   "cell_type": "code",
   "execution_count": null,
   "metadata": {},
   "outputs": [],
   "source": [
    "25*np.log(np.exp(15/25)+np.exp(10/25))-T*np.log(np.exp(5/T)+np.exp(10/T))"
   ]
  },
  {
   "cell_type": "code",
   "execution_count": null,
   "metadata": {},
   "outputs": [],
   "source": [
    "(np.log(np.exp(5/T)+1)-np.log(np.exp(-5/T)+1))"
   ]
  },
  {
   "cell_type": "code",
   "execution_count": null,
   "metadata": {},
   "outputs": [],
   "source": [
    "a,b = price(-5,10),price(5,20)\n",
    "a*10,b*10,10*(a+b),a*20"
   ]
  },
  {
   "cell_type": "code",
   "execution_count": null,
   "metadata": {},
   "outputs": [],
   "source": [
    "np.log(np.exp(q/T).sum())"
   ]
  },
  {
   "cell_type": "code",
   "execution_count": null,
   "metadata": {},
   "outputs": [],
   "source": [
    "np.sum(q*np.exp(q[0]/T))-np.sum(q*np.exp(q/T))"
   ]
  },
  {
   "cell_type": "code",
   "execution_count": null,
   "metadata": {},
   "outputs": [],
   "source": [
    "np.sum(q*np.exp(q[1]/T))-np.sum(q*np.exp(q/T))"
   ]
  },
  {
   "cell_type": "code",
   "execution_count": null,
   "metadata": {},
   "outputs": [],
   "source": [
    "(q*np.exp(q/T).sum()).sum()"
   ]
  },
  {
   "cell_type": "code",
   "execution_count": null,
   "metadata": {},
   "outputs": [],
   "source": [
    "q = np.array([103,109,108]).astype(np.float64)\n",
    "alpha = 1e-3\n",
    "D = alpha*np.sum(q)"
   ]
  },
  {
   "cell_type": "code",
   "execution_count": null,
   "metadata": {},
   "outputs": [],
   "source": [
    "D = alpha*np.sum(q)\n",
    "EPS = 1e-6\n",
    "for i in range(len(q)):\n",
    "    qp = np.copy(q)\n",
    "    qp[i] += EPS\n",
    "    Dp = alpha*np.sum(qp)\n",
    "    oq = Dp*np.log(np.exp(qp/Dp).sum())\n",
    "    qp[i] -= 2*EPS\n",
    "    Dp = alpha*np.sum(qp)\n",
    "    nq = Dp*np.log(np.exp(qp/Dp).sum())\n",
    "    print((oq-nq)/(2*EPS))"
   ]
  },
  {
   "cell_type": "code",
   "execution_count": null,
   "metadata": {},
   "outputs": [],
   "source": [
    "for i in range(len(q)):\n",
    "    print(alpha*np.log(np.exp(q/D).sum()) + (np.sum(q*np.exp(q[i]/D))-np.sum(q*np.exp(q/D)))/(q*np.exp(q/D).sum()).sum())"
   ]
  },
  {
   "cell_type": "code",
   "execution_count": null,
   "metadata": {},
   "outputs": [],
   "source": [
    "for i in range(len(q)):\n",
    "    print(alpha*np.log(np.exp(q/D).sum()) + ((q*np.exp(q[i]/D)).sum() - (q*np.exp(q/D)).sum())/(q.sum()*np.exp(q/D).sum()))"
   ]
  },
  {
   "cell_type": "code",
   "execution_count": null,
   "metadata": {},
   "outputs": [],
   "source": [
    "for i in range(len(q)):\n",
    "    print(alpha*np.log(np.exp(q/D).sum()) + ((q * (np.exp(q[i]/D) - np.exp(q/D))).sum()) /(q.sum()*np.exp(q/D).sum()))"
   ]
  },
  {
   "cell_type": "code",
   "execution_count": null,
   "metadata": {},
   "outputs": [],
   "source": [
    "for i in range(len(q)):\n",
    "    print(alpha*(np.log(E) + ((q * (np.exp(q[i]/D) - np.exp(q/D))).sum()) /(D*E)))"
   ]
  },
  {
   "cell_type": "code",
   "execution_count": null,
   "metadata": {},
   "outputs": [],
   "source": [
    "D = alpha*np.sum(q)\n",
    "E = np.exp(q/D).sum()\n",
    "for i in range(len(q)):\n",
    "    pi = 0.5\n",
    "    t1 = ((pi/alpha) - np.log(E))*D*E\n",
    "    t2 = 0\n",
    "    dn = 0\n",
    "    for j in range(len(q)):\n",
    "        if j != i:\n",
    "            t2+=q[j]*np.exp(q[j]/D)\n",
    "            dn += q[j]\n",
    "    print(D*(t1+t2)/dn)"
   ]
  },
  {
   "cell_type": "code",
   "execution_count": null,
   "metadata": {},
   "outputs": [],
   "source": [
    "E = np.exp(q/D).sum()\n",
    "for i in range(len(q)):\n",
    "    pi = 0.5\n",
    "    et = 0\n",
    "    for j in range(len(q)):\n",
    "        if j != i:\n",
    "            et += np.exp(q[j]/D)\n",
    "    print(D*np.log(et*(pi)/(1-pi)))"
   ]
  },
  {
   "cell_type": "code",
   "execution_count": null,
   "metadata": {},
   "outputs": [],
   "source": [
    "q2 = np.copy(q)\n",
    "q2[1] = 112.47611966550058\n",
    "np.exp(q2/D)/np.exp(q2/D).sum()"
   ]
  },
  {
   "cell_type": "code",
   "execution_count": null,
   "metadata": {},
   "outputs": [],
   "source": []
  }
 ],
 "metadata": {
  "kernelspec": {
   "display_name": "Python 3",
   "language": "python",
   "name": "python3"
  },
  "language_info": {
   "codemirror_mode": {
    "name": "ipython",
    "version": 3
   },
   "file_extension": ".py",
   "mimetype": "text/x-python",
   "name": "python",
   "nbconvert_exporter": "python",
   "pygments_lexer": "ipython3",
   "version": "3.6.9"
  }
 },
 "nbformat": 4,
 "nbformat_minor": 2
}
