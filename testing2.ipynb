{
 "cells": [
  {
   "cell_type": "code",
   "execution_count": null,
   "metadata": {},
   "outputs": [],
   "source": [
    "import numpy as np\n",
    "import matplotlib.pyplot as plt"
   ]
  },
  {
   "cell_type": "code",
   "execution_count": null,
   "metadata": {},
   "outputs": [],
   "source": [
    "tv = []\n",
    "lmsr = []\n",
    "lsmsr = []\n",
    "lsmsrA = []\n",
    "lsmrC = []\n",
    "vig_t = []\n",
    "sampled_t = []\n",
    "\n",
    "INIT = 100\n",
    "\n",
    "q1 = INIT*np.array([1,1]).astype(np.float64)\n",
    "b = 500\n",
    "\n",
    "q2 = INIT*np.array([1,1]).astype(np.float64)\n",
    "\n",
    "\n",
    "q3 = INIT*np.array([1,1]).astype(np.float64)\n",
    "prior = q3.sum()\n",
    "q3_prev = np.array([.5,.5])\n",
    "\n",
    "q4 = INIT*np.array([1,1]).astype(np.float64)\n",
    "alphaG = .01\n",
    "\n",
    "piggy_bank = 0\n",
    "def get_stable_price(q,i=0):\n",
    "    alpha = max(alphaG,b/q.sum())\n",
    "    if False and b/q.sum() > alpha:\n",
    "        q1t = q-q.max()\n",
    "        return np.exp(q1t[0]/b)/np.exp(q1t/b).sum()\n",
    "    else:\n",
    "        #print(alpha)\n",
    "        D = alpha*(np.sum(q))\n",
    "        #q -= q.max()\n",
    "        return alpha*np.log(np.exp(q/D).sum()) + ((q*np.exp(q[i]/D)).sum() - (q*np.exp(q/D)).sum())/(q.sum()*np.exp(q/D).sum())\n",
    "\n",
    "for i in range(2500):\n",
    "    price = .5 if i < 500 else .7\n",
    "    price = price if i < 2000 else .3\n",
    "    sampled = np.clip(price + .12*np.random.randn(),0,1)\n",
    "    sampled_t.append(sampled)\n",
    "    order_size = np.random.exponential(200)\n",
    "    \n",
    "    q1t = q1-q1.max()\n",
    "    lmsr_p = np.exp(q1t[0]/b)/np.exp(q1t/b).sum()\n",
    "    if lmsr_p < sampled:\n",
    "        q1[0] += order_size\n",
    "    else:\n",
    "        q1[1] += order_size\n",
    "        \n",
    "    \n",
    "    lmsr_p2 = get_stable_price(q2.copy())\n",
    "    if lmsr_p2 < sampled:\n",
    "        q2[0] += order_size\n",
    "    else:\n",
    "        q2[1] += order_size\n",
    "        \n",
    "    vig_t.append(get_stable_price(q2)+get_stable_price(q2,1))\n",
    "\n",
    "    \n",
    "    if False:\n",
    "        lmsr_p3 = np.nan_to_num(np.clip(get_stable_price(q3.copy()),0,1))\n",
    "        q3 -= q3_prev*prior\n",
    "        q3_prev = np.array([lmsr_p3,1-lmsr_p3]) # (0.9*q3_prev + 0.1*\n",
    "        q3 += q3_prev*prior\n",
    "        lmsr_p3 = get_stable_price(q3.copy())\n",
    "\n",
    "        if lmsr_p3 < sampled:\n",
    "            q3[0] += order_size\n",
    "        else:\n",
    "            q3[1] += order_size\n",
    "    else:\n",
    "        a3 = max(alphaG,b/q3.sum())\n",
    "        b3 = a3*q3.sum()\n",
    "        q3t = q3-q3.max()\n",
    "\n",
    "        lmsr_p3 = np.exp(q3t[0]/b3)/np.exp(q3t/b3).sum()\n",
    "        #print(b3,np.exp(q3t[0]/b3)/np.exp(q3t/b3).sum()+np.exp(q3t[1]/b3)/np.exp(q3t/b3).sum(),vig_t[-1])\n",
    "\n",
    "        if lmsr_p3 < sampled:\n",
    "            q3[0] += order_size\n",
    "        else:\n",
    "            q3[1] += order_size\n",
    "    a4 = max(alphaG,b/q4.sum())\n",
    "    b4 = a4*q4.sum()\n",
    "    q4t = q4.copy()\n",
    "    qT = b4*np.log((sampled)/(1-sampled) *(np.exp(q4/b4).sum() - np.exp(q4[0]/b4))) - q4[0]\n",
    "\n",
    "    #print(qT)\n",
    "    if qT > 0 :\n",
    "        order_itself = min([qT,order_size])\n",
    "        q4[0] += order_itself*0.93\n",
    "    else:\n",
    "        order_itself = min([-qT,order_size])\n",
    "        q4[1] += order_itself*0.93\n",
    "    piggy_bank += order_itself*0.07\n",
    "    q4t = q4-q4.max()\n",
    "    lmsr_p4 = np.exp(q4t[0]/b4)/np.exp(q4t/b4).sum()\n",
    "    \n",
    "    tv.append(price)\n",
    "    lmsr.append(lmsr_p)\n",
    "    lsmsr.append(lmsr_p2)\n",
    "    lsmsrA.append(lmsr_p3)\n",
    "    lsmrC.append(lmsr_p4)\n",
    "    q4t = q4.copy()\n",
    "    q4t[0] += 1\n",
    "    T1 = b4 * np.log(np.exp(q4t/b4).sum())\n",
    "    q4t = q4.copy()\n",
    "    q4t[1] += 1\n",
    "    T2 = b4 * np.log(np.exp(q4t/b4).sum())\n",
    "    T12 = T1+T2 - 2*b4 * np.log(np.exp(q4/b4).sum())"
   ]
  },
  {
   "cell_type": "code",
   "execution_count": null,
   "metadata": {},
   "outputs": [],
   "source": []
  },
  {
   "cell_type": "code",
   "execution_count": null,
   "metadata": {},
   "outputs": [],
   "source": [
    "get_stable_price(q2)+get_stable_price(q2,1)"
   ]
  },
  {
   "cell_type": "code",
   "execution_count": null,
   "metadata": {},
   "outputs": [],
   "source": [
    "plt.plot(vig_t)\n",
    "#plt.gca().set_yscale('log')\n"
   ]
  },
  {
   "cell_type": "code",
   "execution_count": null,
   "metadata": {},
   "outputs": [],
   "source": [
    "from  scipy.ndimage import gaussian_filter1d"
   ]
  },
  {
   "cell_type": "code",
   "execution_count": null,
   "metadata": {},
   "outputs": [],
   "source": [
    "\n",
    "plt.style.use('default')\n",
    "#plt.style.use('fivethirtyeight')\n",
    "plt.style.use('seaborn-white')\n",
    "\n",
    "plt.figure(figsize=(12,8))\n",
    "\n",
    "plt.plot(tv,lw=3,c='k')\n",
    "plt.scatter(np.arange(len(sampled_t)),sampled_t,c='k',s=3,alpha=0.5)\n",
    "\n",
    "plt.plot(lmsr,alpha=0.8,label='1: STD')\n",
    "plt.plot(lsmsr,alpha=0.8,label='2: LS')\n",
    "plt.plot(lsmsrA,alpha=0.8,label='3: STD LS-Like')\n",
    "\n",
    "v2 = []\n",
    "v2t = 0.5\n",
    "for i,v in enumerate(sampled_t):\n",
    "    W1 = 1/(1+np.exp(-i/1000))\n",
    "    #print(W1)\n",
    "    v2t = (W1) *v2t + (1-W1)*v\n",
    "    v2.append(v2t)\n",
    "\n",
    "#plt.plot(gaussian_filter1d(sampled_t,20),alpha=0.8,c='k')\n",
    "\n",
    "plt.plot(lsmrC,label='4: STD with %')\n",
    "\n",
    "plt.plot(v2,alpha=0.8,c='k',label='smoothing')\n",
    "\n",
    "plt.ylim(0.1,1.0)\n",
    "plt.legend(loc=1)"
   ]
  },
  {
   "cell_type": "code",
   "execution_count": null,
   "metadata": {},
   "outputs": [],
   "source": []
  },
  {
   "cell_type": "code",
   "execution_count": null,
   "metadata": {},
   "outputs": [],
   "source": [
    "max(q4)-min(q4),piggy_bank"
   ]
  },
  {
   "cell_type": "code",
   "execution_count": null,
   "metadata": {},
   "outputs": [],
   "source": [
    "(max(q1)-min(q1))/sum(q1)"
   ]
  },
  {
   "cell_type": "code",
   "execution_count": null,
   "metadata": {},
   "outputs": [],
   "source": [
    "(max(q2)-min(q2))/sum(q2)"
   ]
  },
  {
   "cell_type": "code",
   "execution_count": null,
   "metadata": {},
   "outputs": [],
   "source": [
    "(max(q3)-min(q3))/sum(q3)"
   ]
  },
  {
   "cell_type": "code",
   "execution_count": null,
   "metadata": {},
   "outputs": [],
   "source": [
    "(max(q4)-min(q4))/sum(q4)"
   ]
  },
  {
   "cell_type": "code",
   "execution_count": null,
   "metadata": {},
   "outputs": [],
   "source": [
    "(b/q3.sum())*q3.sum()"
   ]
  },
  {
   "cell_type": "code",
   "execution_count": null,
   "metadata": {},
   "outputs": [],
   "source": [
    "sampled"
   ]
  },
  {
   "cell_type": "code",
   "execution_count": null,
   "metadata": {},
   "outputs": [],
   "source": [
    "np.random.randn()"
   ]
  },
  {
   "cell_type": "code",
   "execution_count": null,
   "metadata": {},
   "outputs": [],
   "source": []
  },
  {
   "cell_type": "code",
   "execution_count": null,
   "metadata": {},
   "outputs": [],
   "source": []
  }
 ],
 "metadata": {
  "kernelspec": {
   "display_name": "Python 3",
   "language": "python",
   "name": "python3"
  },
  "language_info": {
   "codemirror_mode": {
    "name": "ipython",
    "version": 3
   },
   "file_extension": ".py",
   "mimetype": "text/x-python",
   "name": "python",
   "nbconvert_exporter": "python",
   "pygments_lexer": "ipython3",
   "version": "3.6.9"
  }
 },
 "nbformat": 4,
 "nbformat_minor": 2
}
